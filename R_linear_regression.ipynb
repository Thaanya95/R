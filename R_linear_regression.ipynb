{
 "cells": [
  {
   "cell_type": "markdown",
   "id": "64b5a6c3-ab09-4a8b-8653-f0e35d4cff74",
   "metadata": {},
   "source": [
    "# Jupyter notebook"
   ]
  },
  {
   "cell_type": "markdown",
   "id": "f795600f-c933-432e-98b1-69756a0c16e0",
   "metadata": {},
   "source": [
    "## First application in R"
   ]
  },
  {
   "cell_type": "markdown",
   "id": "27f4fbbd-423e-47da-888a-d901af160cac",
   "metadata": {},
   "source": [
    "## Set notebook variables"
   ]
  },
  {
   "cell_type": "code",
   "execution_count": 1,
   "id": "657f732d-b4f5-49d5-93e5-26bb1dbdf458",
   "metadata": {
    "tags": []
   },
   "outputs": [],
   "source": [
    "filename = \"regrex1.csv\""
   ]
  },
  {
   "cell_type": "markdown",
   "id": "2f35bf04-d259-4f12-b193-8c8e85f95e25",
   "metadata": {},
   "source": [
    "## Importing the dataset"
   ]
  },
  {
   "cell_type": "code",
   "execution_count": 3,
   "id": "e9f711ca-df2d-493c-99fb-795fcc25899b",
   "metadata": {
    "tags": []
   },
   "outputs": [
    {
     "data": {
      "text/html": [
       "<table class=\"dataframe\">\n",
       "<caption>A data.frame: 30 × 2</caption>\n",
       "<thead>\n",
       "\t<tr><th scope=col>y</th><th scope=col>x</th></tr>\n",
       "\t<tr><th scope=col>&lt;dbl&gt;</th><th scope=col>&lt;dbl&gt;</th></tr>\n",
       "</thead>\n",
       "<tbody>\n",
       "\t<tr><td> 6.8102</td><td> 9.8492</td></tr>\n",
       "\t<tr><td> 9.8437</td><td>11.1450</td></tr>\n",
       "\t<tr><td> 4.9767</td><td> 5.1209</td></tr>\n",
       "\t<tr><td> 5.0006</td><td> 8.1085</td></tr>\n",
       "\t<tr><td> 3.5047</td><td> 3.5599</td></tr>\n",
       "\t<tr><td> 3.6419</td><td> 1.9883</td></tr>\n",
       "\t<tr><td> 7.8725</td><td>15.5322</td></tr>\n",
       "\t<tr><td> 5.1442</td><td> 7.5202</td></tr>\n",
       "\t<tr><td> 8.3883</td><td>14.0202</td></tr>\n",
       "\t<tr><td> 6.8204</td><td> 7.5226</td></tr>\n",
       "\t<tr><td> 9.0185</td><td>14.3272</td></tr>\n",
       "\t<tr><td> 2.6148</td><td> 3.8950</td></tr>\n",
       "\t<tr><td> 3.7367</td><td> 1.8707</td></tr>\n",
       "\t<tr><td> 2.8651</td><td> 0.8347</td></tr>\n",
       "\t<tr><td>10.7469</td><td>18.3413</td></tr>\n",
       "\t<tr><td> 2.3710</td><td> 1.6645</td></tr>\n",
       "\t<tr><td> 9.6653</td><td>17.0579</td></tr>\n",
       "\t<tr><td> 7.1926</td><td> 9.2375</td></tr>\n",
       "\t<tr><td>11.7833</td><td>21.0000</td></tr>\n",
       "\t<tr><td> 3.9537</td><td> 3.5286</td></tr>\n",
       "\t<tr><td>15.0000</td><td>25.0000</td></tr>\n",
       "\t<tr><td> 7.9152</td><td> 9.9008</td></tr>\n",
       "\t<tr><td> 9.3368</td><td>17.5990</td></tr>\n",
       "\t<tr><td> 8.7587</td><td>13.8790</td></tr>\n",
       "\t<tr><td> 6.7813</td><td>10.8690</td></tr>\n",
       "\t<tr><td> 7.9924</td><td>12.6238</td></tr>\n",
       "\t<tr><td> 2.2806</td><td> 0.9719</td></tr>\n",
       "\t<tr><td>10.4050</td><td>14.4814</td></tr>\n",
       "\t<tr><td> 3.7891</td><td> 2.1792</td></tr>\n",
       "\t<tr><td>10.9067</td><td>18.4052</td></tr>\n",
       "</tbody>\n",
       "</table>\n"
      ],
      "text/latex": [
       "A data.frame: 30 × 2\n",
       "\\begin{tabular}{ll}\n",
       " y & x\\\\\n",
       " <dbl> & <dbl>\\\\\n",
       "\\hline\n",
       "\t  6.8102 &  9.8492\\\\\n",
       "\t  9.8437 & 11.1450\\\\\n",
       "\t  4.9767 &  5.1209\\\\\n",
       "\t  5.0006 &  8.1085\\\\\n",
       "\t  3.5047 &  3.5599\\\\\n",
       "\t  3.6419 &  1.9883\\\\\n",
       "\t  7.8725 & 15.5322\\\\\n",
       "\t  5.1442 &  7.5202\\\\\n",
       "\t  8.3883 & 14.0202\\\\\n",
       "\t  6.8204 &  7.5226\\\\\n",
       "\t  9.0185 & 14.3272\\\\\n",
       "\t  2.6148 &  3.8950\\\\\n",
       "\t  3.7367 &  1.8707\\\\\n",
       "\t  2.8651 &  0.8347\\\\\n",
       "\t 10.7469 & 18.3413\\\\\n",
       "\t  2.3710 &  1.6645\\\\\n",
       "\t  9.6653 & 17.0579\\\\\n",
       "\t  7.1926 &  9.2375\\\\\n",
       "\t 11.7833 & 21.0000\\\\\n",
       "\t  3.9537 &  3.5286\\\\\n",
       "\t 15.0000 & 25.0000\\\\\n",
       "\t  7.9152 &  9.9008\\\\\n",
       "\t  9.3368 & 17.5990\\\\\n",
       "\t  8.7587 & 13.8790\\\\\n",
       "\t  6.7813 & 10.8690\\\\\n",
       "\t  7.9924 & 12.6238\\\\\n",
       "\t  2.2806 &  0.9719\\\\\n",
       "\t 10.4050 & 14.4814\\\\\n",
       "\t  3.7891 &  2.1792\\\\\n",
       "\t 10.9067 & 18.4052\\\\\n",
       "\\end{tabular}\n"
      ],
      "text/markdown": [
       "\n",
       "A data.frame: 30 × 2\n",
       "\n",
       "| y &lt;dbl&gt; | x &lt;dbl&gt; |\n",
       "|---|---|\n",
       "|  6.8102 |  9.8492 |\n",
       "|  9.8437 | 11.1450 |\n",
       "|  4.9767 |  5.1209 |\n",
       "|  5.0006 |  8.1085 |\n",
       "|  3.5047 |  3.5599 |\n",
       "|  3.6419 |  1.9883 |\n",
       "|  7.8725 | 15.5322 |\n",
       "|  5.1442 |  7.5202 |\n",
       "|  8.3883 | 14.0202 |\n",
       "|  6.8204 |  7.5226 |\n",
       "|  9.0185 | 14.3272 |\n",
       "|  2.6148 |  3.8950 |\n",
       "|  3.7367 |  1.8707 |\n",
       "|  2.8651 |  0.8347 |\n",
       "| 10.7469 | 18.3413 |\n",
       "|  2.3710 |  1.6645 |\n",
       "|  9.6653 | 17.0579 |\n",
       "|  7.1926 |  9.2375 |\n",
       "| 11.7833 | 21.0000 |\n",
       "|  3.9537 |  3.5286 |\n",
       "| 15.0000 | 25.0000 |\n",
       "|  7.9152 |  9.9008 |\n",
       "|  9.3368 | 17.5990 |\n",
       "|  8.7587 | 13.8790 |\n",
       "|  6.7813 | 10.8690 |\n",
       "|  7.9924 | 12.6238 |\n",
       "|  2.2806 |  0.9719 |\n",
       "| 10.4050 | 14.4814 |\n",
       "|  3.7891 |  2.1792 |\n",
       "| 10.9067 | 18.4052 |\n",
       "\n"
      ],
      "text/plain": [
       "   y       x      \n",
       "1   6.8102  9.8492\n",
       "2   9.8437 11.1450\n",
       "3   4.9767  5.1209\n",
       "4   5.0006  8.1085\n",
       "5   3.5047  3.5599\n",
       "6   3.6419  1.9883\n",
       "7   7.8725 15.5322\n",
       "8   5.1442  7.5202\n",
       "9   8.3883 14.0202\n",
       "10  6.8204  7.5226\n",
       "11  9.0185 14.3272\n",
       "12  2.6148  3.8950\n",
       "13  3.7367  1.8707\n",
       "14  2.8651  0.8347\n",
       "15 10.7469 18.3413\n",
       "16  2.3710  1.6645\n",
       "17  9.6653 17.0579\n",
       "18  7.1926  9.2375\n",
       "19 11.7833 21.0000\n",
       "20  3.9537  3.5286\n",
       "21 15.0000 25.0000\n",
       "22  7.9152  9.9008\n",
       "23  9.3368 17.5990\n",
       "24  8.7587 13.8790\n",
       "25  6.7813 10.8690\n",
       "26  7.9924 12.6238\n",
       "27  2.2806  0.9719\n",
       "28 10.4050 14.4814\n",
       "29  3.7891  2.1792\n",
       "30 10.9067 18.4052"
      ]
     },
     "metadata": {},
     "output_type": "display_data"
    }
   ],
   "source": [
    "dataset = read.csv(filename)\n",
    "dataset"
   ]
  },
  {
   "cell_type": "markdown",
   "id": "7dd5b6fc-0962-4da3-aeb9-2df3376fbb58",
   "metadata": {},
   "source": [
    "## Fitting Linear Regression to the Dataset"
   ]
  },
  {
   "cell_type": "code",
   "execution_count": 4,
   "id": "f3494e6a-adbe-4a66-8360-3842686219ee",
   "metadata": {
    "tags": []
   },
   "outputs": [],
   "source": [
    "model = lm(formula = y ~ x,\n",
    "               data = dataset)"
   ]
  },
  {
   "cell_type": "markdown",
   "id": "a08bf9ac-ebbb-4284-ae75-bcbc330e6b8e",
   "metadata": {},
   "source": [
    "## Visualizing the Linear Regression results"
   ]
  },
  {
   "cell_type": "code",
   "execution_count": 7,
   "id": "75aa4f8d-17b3-4f24-9204-ad7298877a95",
   "metadata": {
    "tags": []
   },
   "outputs": [
    {
     "data": {
      "image/png": "[encoded data removed]",
      "text/plain": [
       "plot without title"
      ]
     },
     "metadata": {
      "image/png": {
       "height": 420,
       "width": 420
      }
     },
     "output_type": "display_data"
    }
   ],
   "source": [
    "library(ggplot2)\n",
    "ggplot() +\n",
    "  geom_point(aes(x = dataset$x, y = dataset$y),\n",
    "             colour = 'red') +\n",
    "  geom_line(aes(x = dataset$x, y = predict(model, newdata = dataset)),\n",
    "            colour = 'blue') +\n",
    "  ggtitle('Linear model of y vs x') +\n",
    "  xlab('x') +\n",
    "  ylab('y')"
   ]
  },
  {
   "cell_type": "markdown",
   "id": "c7078d40-10da-410a-93ca-0686193b2071",
   "metadata": {},
   "source": [
    "## Evaluating the Linear Regression model"
   ]
  },
  {
   "cell_type": "code",
   "execution_count": 8,
   "id": "ed4d8017-c1a9-4830-8f3e-2196b00c35d6",
   "metadata": {
    "tags": []
   },
   "outputs": [
    {
     "data": {
      "text/plain": [
       "\n",
       "Call:\n",
       "lm(formula = y ~ x, data = dataset)\n",
       "\n",
       "Residuals:\n",
       "     Min       1Q   Median       3Q      Max \n",
       "-1.66121 -0.53286 -0.02869  0.50436  2.36786 \n",
       "\n",
       "Coefficients:\n",
       "            Estimate Std. Error t value Pr(>|t|)    \n",
       "(Intercept)  2.24814    0.29365   7.656 2.44e-08 ***\n",
       "x            0.46906    0.02444  19.194  < 2e-16 ***\n",
       "---\n",
       "Signif. codes:  0 ‘***’ 0.001 ‘**’ 0.01 ‘*’ 0.05 ‘.’ 0.1 ‘ ’ 1\n",
       "\n",
       "Residual standard error: 0.8779 on 28 degrees of freedom\n",
       "Multiple R-squared:  0.9294,\tAdjusted R-squared:  0.9268 \n",
       "F-statistic: 368.4 on 1 and 28 DF,  p-value: < 2.2e-16\n"
      ]
     },
     "metadata": {},
     "output_type": "display_data"
    }
   ],
   "source": [
    "summary(model)"
   ]
  },
  {
   "cell_type": "code",
   "execution_count": null,
   "id": "2e365481-cbb3-478b-9fa8-efa85320b36b",
   "metadata": {},
   "outputs": [],
   "source": []
  }
 ],
 "metadata": {
  "kernelspec": {
   "display_name": "R",
   "language": "R",
   "name": "ir"
  },
  "language_info": {
   "codemirror_mode": "r",
   "file_extension": ".r",
   "mimetype": "text/x-r-source",
   "name": "R",
   "pygments_lexer": "r",
   "version": "4.0.5"
  }
 },
 "nbformat": 4,
 "nbformat_minor": 5
}
